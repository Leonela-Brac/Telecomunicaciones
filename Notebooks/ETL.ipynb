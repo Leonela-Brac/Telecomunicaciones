{
 "cells": [
  {
   "cell_type": "code",
   "execution_count": 66,
   "metadata": {},
   "outputs": [
    {
     "name": "stdout",
     "output_type": "stream",
     "text": [
      "Collecting seaborn\n",
      "  Using cached seaborn-0.13.2-py3-none-any.whl.metadata (5.4 kB)\n",
      "Requirement already satisfied: numpy!=1.24.0,>=1.20 in c:\\users\\rosad\\appdata\\local\\programs\\python\\python311\\lib\\site-packages (from seaborn) (2.2.3)\n",
      "Requirement already satisfied: pandas>=1.2 in c:\\users\\rosad\\appdata\\local\\programs\\python\\python311\\lib\\site-packages (from seaborn) (2.2.3)\n",
      "Collecting matplotlib!=3.6.1,>=3.4 (from seaborn)\n",
      "  Using cached matplotlib-3.10.1-cp311-cp311-win_amd64.whl.metadata (11 kB)\n",
      "Collecting contourpy>=1.0.1 (from matplotlib!=3.6.1,>=3.4->seaborn)\n",
      "  Using cached contourpy-1.3.1-cp311-cp311-win_amd64.whl.metadata (5.4 kB)\n",
      "Collecting cycler>=0.10 (from matplotlib!=3.6.1,>=3.4->seaborn)\n",
      "  Using cached cycler-0.12.1-py3-none-any.whl.metadata (3.8 kB)\n",
      "Collecting fonttools>=4.22.0 (from matplotlib!=3.6.1,>=3.4->seaborn)\n",
      "  Using cached fonttools-4.56.0-cp311-cp311-win_amd64.whl.metadata (103 kB)\n",
      "Collecting kiwisolver>=1.3.1 (from matplotlib!=3.6.1,>=3.4->seaborn)\n",
      "  Using cached kiwisolver-1.4.8-cp311-cp311-win_amd64.whl.metadata (6.3 kB)\n",
      "Requirement already satisfied: packaging>=20.0 in c:\\users\\rosad\\appdata\\roaming\\python\\python311\\site-packages (from matplotlib!=3.6.1,>=3.4->seaborn) (24.2)\n",
      "Requirement already satisfied: pillow>=8 in c:\\users\\rosad\\appdata\\local\\programs\\python\\python311\\lib\\site-packages (from matplotlib!=3.6.1,>=3.4->seaborn) (11.1.0)\n",
      "Collecting pyparsing>=2.3.1 (from matplotlib!=3.6.1,>=3.4->seaborn)\n",
      "  Using cached pyparsing-3.2.1-py3-none-any.whl.metadata (5.0 kB)\n",
      "Requirement already satisfied: python-dateutil>=2.7 in c:\\users\\rosad\\appdata\\roaming\\python\\python311\\site-packages (from matplotlib!=3.6.1,>=3.4->seaborn) (2.9.0.post0)\n",
      "Requirement already satisfied: pytz>=2020.1 in c:\\users\\rosad\\appdata\\local\\programs\\python\\python311\\lib\\site-packages (from pandas>=1.2->seaborn) (2025.1)\n",
      "Requirement already satisfied: tzdata>=2022.7 in c:\\users\\rosad\\appdata\\local\\programs\\python\\python311\\lib\\site-packages (from pandas>=1.2->seaborn) (2025.1)\n",
      "Requirement already satisfied: six>=1.5 in c:\\users\\rosad\\appdata\\roaming\\python\\python311\\site-packages (from python-dateutil>=2.7->matplotlib!=3.6.1,>=3.4->seaborn) (1.17.0)\n",
      "Using cached seaborn-0.13.2-py3-none-any.whl (294 kB)\n",
      "Using cached matplotlib-3.10.1-cp311-cp311-win_amd64.whl (8.1 MB)\n",
      "Using cached contourpy-1.3.1-cp311-cp311-win_amd64.whl (219 kB)\n",
      "Using cached cycler-0.12.1-py3-none-any.whl (8.3 kB)\n",
      "Using cached fonttools-4.56.0-cp311-cp311-win_amd64.whl (2.2 MB)\n",
      "Using cached kiwisolver-1.4.8-cp311-cp311-win_amd64.whl (71 kB)\n",
      "Using cached pyparsing-3.2.1-py3-none-any.whl (107 kB)\n",
      "Installing collected packages: pyparsing, kiwisolver, fonttools, cycler, contourpy, matplotlib, seaborn\n",
      "Successfully installed contourpy-1.3.1 cycler-0.12.1 fonttools-4.56.0 kiwisolver-1.4.8 matplotlib-3.10.1 pyparsing-3.2.1 seaborn-0.13.2\n",
      "Note: you may need to restart the kernel to use updated packages.\n"
     ]
    },
    {
     "name": "stderr",
     "output_type": "stream",
     "text": [
      "\n",
      "[notice] A new release of pip is available: 24.0 -> 25.0.1\n",
      "[notice] To update, run: python.exe -m pip install --upgrade pip\n"
     ]
    }
   ],
   "source": [
    "%pip install seaborn\n"
   ]
  },
  {
   "cell_type": "code",
   "execution_count": 17,
   "metadata": {},
   "outputs": [],
   "source": [
    "import pandas as pd\n",
    "import os"
   ]
  },
  {
   "cell_type": "code",
   "execution_count": 67,
   "metadata": {},
   "outputs": [
    {
     "name": "stderr",
     "output_type": "stream",
     "text": [
      "Matplotlib is building the font cache; this may take a moment.\n"
     ]
    }
   ],
   "source": [
    "import seaborn as sns\n",
    "import matplotlib.pyplot as plt"
   ]
  },
  {
   "cell_type": "code",
   "execution_count": 14,
   "metadata": {},
   "outputs": [
    {
     "name": "stdout",
     "output_type": "stream",
     "text": [
      "Cargado velocidad_localidad con 18864 filas y 6 columnas.\n",
      "Cargado rangos_velocidad con 1000 filas y 12 columnas.\n",
      "Cargado accesos_tecnologia con 1009 filas y 9 columnas.\n",
      "Cargado penetracion_hogares con 1000 filas y 4 columnas.\n",
      "Cargado penetracion_poblacion con 1000 filas y 4 columnas.\n",
      "Cargado velocidad_provincia con 1008 filas y 4 columnas.\n",
      "Cargado ingresos con 42 filas y 4 columnas.\n",
      "\n",
      "Primeras filas de velocidad_localidad:\n",
      "        Partido   Localidad  link Indec Velocidad (Mbps)  Provincia  Accesos\n",
      "0  BUENOS AIRES  25 de Mayo  25 de Mayo          6854100       0.00      1.0\n",
      "1  BUENOS AIRES  25 de Mayo  25 de Mayo          6854100       0.50      2.0\n",
      "2  BUENOS AIRES  25 de Mayo  25 de Mayo          6854100       0.75     19.0\n",
      "3  BUENOS AIRES  25 de Mayo  25 de Mayo          6854100       3.00     85.0\n",
      "4  BUENOS AIRES  25 de Mayo  25 de Mayo          6854100       3.50    145.0\n",
      "--------------------------------------------------\n",
      "\n",
      "Primeras filas de rangos_velocidad:\n",
      "   AÃ±o  Trimestre        Provincia  HASTA 512 kbps  + 512 Kbps - 1 Mbps  \\\n",
      "0  2024          2     Buenos Aires         25287.0              23034.0   \n",
      "1  2024          2  Capital Federal           518.0               4122.0   \n",
      "2  2024          2        Catamarca            72.0                164.0   \n",
      "3  2024          2            Chaco           236.0                349.0   \n",
      "4  2024          2           Chubut           125.0               1139.0   \n",
      "\n",
      "   + 1 Mbps - 6 Mbps  + 6 Mbps - 10 Mbps  + 10 Mbps - 20 Mbps  \\\n",
      "0           222627.0            221660.0             244528.0   \n",
      "1            24539.0             40296.0              33158.0   \n",
      "2             2660.0              3093.0               3799.0   \n",
      "3            14594.0              8336.0               6208.0   \n",
      "4            43699.0             31971.0              22696.0   \n",
      "\n",
      "   + 20 Mbps - 30 Mbps  + 30 Mbps     OTROS      Total  \n",
      "0             106302.0  4020395.0  125547.0  4989380.0  \n",
      "1               5633.0  1355333.0       0.0  1463599.0  \n",
      "2               1279.0    63954.0      53.0    75074.0  \n",
      "3               6454.0   107707.0    3208.0   147092.0  \n",
      "4              19827.0    38212.0   16554.0   174223.0  \n",
      "--------------------------------------------------\n",
      "\n",
      "Primeras filas de accesos_tecnologia:\n",
      "   AÃ±o Trimestre        Provincia      ADSL  Cablemodem  Fibra Ã³ptica  \\\n",
      "0  2024         2     Buenos Aires  214055.0   2722466.0      1849476.0   \n",
      "1  2024         2  Capital Federal   54102.0   1144781.0       230402.0   \n",
      "2  2024         2        Catamarca    4951.0     10303.0        58355.0   \n",
      "3  2024         2            Chaco    9448.0     57935.0        68944.0   \n",
      "4  2024         2           Chubut   25955.0     80704.0        26516.0   \n",
      "\n",
      "   Wireless    Otros      Total  \n",
      "0  138638.0  64745.0  4989380.0  \n",
      "1    4493.0  29821.0  1463599.0  \n",
      "2    1384.0     81.0    75074.0  \n",
      "3    8407.0   2358.0   147092.0  \n",
      "4   31118.0   9930.0   174223.0  \n",
      "--------------------------------------------------\n",
      "\n",
      "Primeras filas de penetracion_hogares:\n",
      "   AÃ±o  Trimestre        Provincia  Accesos por cada 100 hogares\n",
      "0  2024          2     Buenos Aires                         79.84\n",
      "1  2024          2  Capital Federal                        116.37\n",
      "2  2024          2        Catamarca                         68.81\n",
      "3  2024          2            Chaco                         44.06\n",
      "4  2024          2           Chubut                         86.33\n",
      "--------------------------------------------------\n",
      "\n",
      "Primeras filas de penetracion_poblacion:\n",
      "   AÃ±o  Trimestre        Provincia  Accesos por cada 100 hab\n",
      "0  2024          2     Buenos Aires                     27.43\n",
      "1  2024          2  Capital Federal                     47.44\n",
      "2  2024          2        Catamarca                     17.50\n",
      "3  2024          2            Chaco                     11.78\n",
      "4  2024          2           Chubut                     26.46\n",
      "--------------------------------------------------\n",
      "\n",
      "Primeras filas de velocidad_provincia:\n",
      "   AÃ±o  Trimestre        Provincia  Mbps (Media de bajada)\n",
      "0  2024          2     Buenos Aires                  157.41\n",
      "1  2024          2  Capital Federal                  233.01\n",
      "2  2024          2        Catamarca                   97.38\n",
      "3  2024          2            Chaco                  107.76\n",
      "4  2024          2           Chubut                   21.67\n",
      "--------------------------------------------------\n",
      "\n",
      "Primeras filas de ingresos:\n",
      "   AÃ±o  Trimestre  Ingresos (miles de pesos)        Periodo\n",
      "0  2024          2               4.420322e+08   Abr-Jun 2024\n",
      "1  2024          1               3.461990e+08   Ene-Mar 2024\n",
      "2  2023          4               1.673760e+08   Oct-Dic 2023\n",
      "3  2023          3               1.331066e+08  Jul-Sept 2023\n",
      "4  2023          2               1.180603e+08   Jun-Mar 2023\n",
      "--------------------------------------------------\n"
     ]
    }
   ],
   "source": [
    "\n",
    "\n",
    "# Definir rutas de archivos (ajustar según ubicación real)\n",
    "data_path = \"C:/Users/rosad/OneDrive/Desktop/Leonela/DataAnalist/Telecomunicaciones/Notebooks/Principales/\"\n",
    "\n",
    "files = {\n",
    "    \"velocidad_localidad\": \"Internet_Acc_vel_loc_sinrangos.csv\",\n",
    "    \"rangos_velocidad\": \"Internet_Accesos por rangos.csv\",\n",
    "    \"accesos_tecnologia\": \"Internet_Accesos por tecnología.csv\",\n",
    "    \"penetracion_hogares\": \"Internet_Penetracion-hogares.csv\",\n",
    "    \"penetracion_poblacion\": \"Internet_Penetración-poblacion.csv\",\n",
    "    \"velocidad_provincia\": \"Internet_Velocidad % por prov.csv\",\n",
    "    \"ingresos\": \"Internet_Ingresos .csv\"\n",
    "}\n",
    "\n",
    "# Cargar datos en DataFrames\n",
    "dfs = {}\n",
    "for key, file in files.items():\n",
    "    file_path = os.path.join(data_path, file)\n",
    "    if os.path.exists(file_path):\n",
    "        dfs[key] = pd.read_csv(file_path, encoding='latin1')\n",
    "        print(f\"Cargado {key} con {dfs[key].shape[0]} filas y {dfs[key].shape[1]} columnas.\")\n",
    "    else:\n",
    "        print(f\"Archivo no encontrado: {file}\")\n",
    "\n",
    "# Ver primeras filas de cada dataset\n",
    "for key, df in dfs.items():\n",
    "    print(f\"\\nPrimeras filas de {key}:\")\n",
    "    print(df.head())\n",
    "    print(\"-\"*50)"
   ]
  },
  {
   "cell_type": "code",
   "execution_count": null,
   "metadata": {},
   "outputs": [],
   "source": [
    "#Detectar valores nulos y duplicados"
   ]
  },
  {
   "cell_type": "code",
   "execution_count": null,
   "metadata": {},
   "outputs": [
    {
     "ename": "SyntaxError",
     "evalue": "illegal target for annotation (1276887223.py, line 2)",
     "output_type": "error",
     "traceback": [
      "\u001b[1;36m  Cell \u001b[1;32mIn[20], line 2\u001b[1;36m\u001b[0m\n\u001b[1;33m    \"velocidad_localidad\": \"Internet_Acc_vel_loc_sinrangos.csv\",\u001b[0m\n\u001b[1;37m    ^\u001b[0m\n\u001b[1;31mSyntaxError\u001b[0m\u001b[1;31m:\u001b[0m illegal target for annotation\n"
     ]
    }
   ],
   "source": [
    "\"\"\"\"\"\"\n",
    "#\"velocidad_localidad\": \"Internet_Acc_vel_loc_sinrangos.csv\",\n",
    " #   \"rangos_velocidad\": \"Internet_Accesos por rangos.csv\",\n",
    "  #  \"accesos_tecnologia\": \"Internet_Accesos por tecnología.csv\",\n",
    "   # #\"penetracion_hogares\": \"Internet_Penetracion-hogares.csv\",\n",
    "    #\"penetracion_poblacion\": \"Internet_Penetración-poblacion.csv\",\n",
    "   # \"velocidad_provincia\": \"Internet_Velocidad % por prov.csv\",\n",
    "   # \"ingresos\": \"Internet_Ingresos .csv\"\n",
    "\"\"\"\"\"\""
   ]
  },
  {
   "cell_type": "code",
   "execution_count": 22,
   "metadata": {},
   "outputs": [
    {
     "name": "stdout",
     "output_type": "stream",
     "text": [
      "        Partido   Localidad  link Indec Velocidad (Mbps)  Provincia  Accesos\n",
      "0  BUENOS AIRES  25 de Mayo  25 de Mayo          6854100       0.00      1.0\n",
      "1  BUENOS AIRES  25 de Mayo  25 de Mayo          6854100       0.50      2.0\n",
      "2  BUENOS AIRES  25 de Mayo  25 de Mayo          6854100       0.75     19.0\n",
      "3  BUENOS AIRES  25 de Mayo  25 de Mayo          6854100       3.00     85.0\n",
      "4  BUENOS AIRES  25 de Mayo  25 de Mayo          6854100       3.50    145.0\n",
      "<class 'pandas.core.frame.DataFrame'>\n",
      "RangeIndex: 18864 entries, 0 to 18863\n",
      "Data columns (total 6 columns):\n",
      " #   Column            Non-Null Count  Dtype  \n",
      "---  ------            --------------  -----  \n",
      " 0   Partido           18864 non-null  object \n",
      " 1   Localidad         18864 non-null  object \n",
      " 2   link Indec        18863 non-null  object \n",
      " 3   Velocidad (Mbps)  18864 non-null  object \n",
      " 4   Provincia         18864 non-null  float64\n",
      " 5   Accesos           18857 non-null  float64\n",
      "dtypes: float64(2), object(4)\n",
      "memory usage: 884.4+ KB\n",
      "None\n",
      "          Provincia        Accesos\n",
      "count  18864.000000   18857.000000\n",
      "mean      66.866042     612.828499\n",
      "std      178.987138    6283.359677\n",
      "min        0.000000   -5582.000000\n",
      "25%        3.000000       3.000000\n",
      "50%       10.000000      26.000000\n",
      "75%       30.000000     180.000000\n",
      "max     1024.000000  576789.000000\n"
     ]
    }
   ],
   "source": [
    "\n",
    "df_velocidad_localidad = pd.read_csv(\"C:/Users/rosad/OneDrive/Desktop/Leonela/DataAnalist/Telecomunicaciones/Notebooks/Principales/Internet_Acc_vel_loc_sinrangos.csv\")\n",
    "\n",
    "# Ver primeras filas\n",
    "print(df_velocidad_localidad.head())\n",
    "\n",
    "# Información general (tipos de datos, nulos, memoria usada)\n",
    "print(df_velocidad_localidad.info())\n",
    "\n",
    "# Resumen estadístico (solo para columnas numéricas)\n",
    "print(df_velocidad_localidad.describe())\n"
   ]
  },
  {
   "cell_type": "code",
   "execution_count": 24,
   "metadata": {},
   "outputs": [],
   "source": [
    "#  Convertir 'Velocidad (Mbps)' a número\n",
    "df_velocidad_localidad['Velocidad (Mbps)'] = pd.to_numeric(df_velocidad_localidad['Velocidad (Mbps)'], errors='coerce')"
   ]
  },
  {
   "cell_type": "code",
   "execution_count": null,
   "metadata": {},
   "outputs": [],
   "source": [
    "#  Corregir valores negativos en 'Accesos'\n",
    "df_velocidad_localidad['Accesos'] = df_velocidad_localidad['Accesos'].apply(lambda x: abs(x) if x < 0 else x)"
   ]
  },
  {
   "cell_type": "code",
   "execution_count": 85,
   "metadata": {},
   "outputs": [
    {
     "name": "stderr",
     "output_type": "stream",
     "text": [
      "C:\\Users\\rosad\\AppData\\Local\\Temp\\ipykernel_62880\\932607546.py:2: FutureWarning: A value is trying to be set on a copy of a DataFrame or Series through chained assignment using an inplace method.\n",
      "The behavior will change in pandas 3.0. This inplace method will never work because the intermediate object on which we are setting values always behaves as a copy.\n",
      "\n",
      "For example, when doing 'df[col].method(value, inplace=True)', try using 'df.method({col: value}, inplace=True)' or df[col] = df[col].method(value) instead, to perform the operation inplace on the original object.\n",
      "\n",
      "\n",
      "  df_velocidad_localidad['link Indec'].fillna(\"Desconocido\", inplace=True)  # Reemplazar nulos con \"Desconocido\"\n",
      "C:\\Users\\rosad\\AppData\\Local\\Temp\\ipykernel_62880\\932607546.py:3: FutureWarning: A value is trying to be set on a copy of a DataFrame or Series through chained assignment using an inplace method.\n",
      "The behavior will change in pandas 3.0. This inplace method will never work because the intermediate object on which we are setting values always behaves as a copy.\n",
      "\n",
      "For example, when doing 'df[col].method(value, inplace=True)', try using 'df.method({col: value}, inplace=True)' or df[col] = df[col].method(value) instead, to perform the operation inplace on the original object.\n",
      "\n",
      "\n",
      "  df_velocidad_localidad['Accesos'].fillna(df_velocidad_localidad['Accesos'].median(), inplace=True)  # Imputar con la mediana\n"
     ]
    }
   ],
   "source": [
    "#  Manejar valores nulos\n",
    "df_velocidad_localidad['link Indec'].fillna(\"Desconocido\", inplace=True)  # Reemplazar nulos con \"Desconocido\"\n",
    "df_velocidad_localidad['Accesos'].fillna(df_velocidad_localidad['Accesos'].median(), inplace=True)  # Imputar con la mediana"
   ]
  },
  {
   "cell_type": "code",
   "execution_count": 86,
   "metadata": {},
   "outputs": [],
   "source": [
    "# Eliminar filas con valores nulos en 'Velocidad (Mbps)'\n",
    "df_velocidad_localidad.dropna(subset=['Velocidad (Mbps)'], inplace=True)"
   ]
  },
  {
   "cell_type": "code",
   "execution_count": 52,
   "metadata": {},
   "outputs": [
    {
     "name": "stdout",
     "output_type": "stream",
     "text": [
      "Cantidad de filas duplicadas: 0\n"
     ]
    }
   ],
   "source": [
    "# Filas duplicadas\n",
    "print(\"Cantidad de filas duplicadas:\", df_velocidad_localidad.duplicated().sum())"
   ]
  },
  {
   "cell_type": "code",
   "execution_count": 51,
   "metadata": {},
   "outputs": [],
   "source": [
    "df_velocidad_localidad = df_velocidad_localidad.drop_duplicates()"
   ]
  },
  {
   "cell_type": "code",
   "execution_count": 88,
   "metadata": {},
   "outputs": [
    {
     "data": {
      "text/html": [
       "<div>\n",
       "<style scoped>\n",
       "    .dataframe tbody tr th:only-of-type {\n",
       "        vertical-align: middle;\n",
       "    }\n",
       "\n",
       "    .dataframe tbody tr th {\n",
       "        vertical-align: top;\n",
       "    }\n",
       "\n",
       "    .dataframe thead th {\n",
       "        text-align: right;\n",
       "    }\n",
       "</style>\n",
       "<table border=\"1\" class=\"dataframe\">\n",
       "  <thead>\n",
       "    <tr style=\"text-align: right;\">\n",
       "      <th></th>\n",
       "      <th>Partido</th>\n",
       "      <th>Localidad</th>\n",
       "      <th>link Indec</th>\n",
       "      <th>Velocidad (Mbps)</th>\n",
       "      <th>Provincia</th>\n",
       "      <th>Accesos</th>\n",
       "    </tr>\n",
       "  </thead>\n",
       "  <tbody>\n",
       "    <tr>\n",
       "      <th>0</th>\n",
       "      <td>BUENOS AIRES</td>\n",
       "      <td>25 de Mayo</td>\n",
       "      <td>25 de Mayo</td>\n",
       "      <td>6854100.0</td>\n",
       "      <td>0</td>\n",
       "      <td>1.0</td>\n",
       "    </tr>\n",
       "    <tr>\n",
       "      <th>1</th>\n",
       "      <td>BUENOS AIRES</td>\n",
       "      <td>25 de Mayo</td>\n",
       "      <td>25 de Mayo</td>\n",
       "      <td>6854100.0</td>\n",
       "      <td>0</td>\n",
       "      <td>2.0</td>\n",
       "    </tr>\n",
       "    <tr>\n",
       "      <th>2</th>\n",
       "      <td>BUENOS AIRES</td>\n",
       "      <td>25 de Mayo</td>\n",
       "      <td>25 de Mayo</td>\n",
       "      <td>6854100.0</td>\n",
       "      <td>0</td>\n",
       "      <td>19.0</td>\n",
       "    </tr>\n",
       "    <tr>\n",
       "      <th>3</th>\n",
       "      <td>BUENOS AIRES</td>\n",
       "      <td>25 de Mayo</td>\n",
       "      <td>25 de Mayo</td>\n",
       "      <td>6854100.0</td>\n",
       "      <td>3</td>\n",
       "      <td>85.0</td>\n",
       "    </tr>\n",
       "    <tr>\n",
       "      <th>4</th>\n",
       "      <td>BUENOS AIRES</td>\n",
       "      <td>25 de Mayo</td>\n",
       "      <td>25 de Mayo</td>\n",
       "      <td>6854100.0</td>\n",
       "      <td>3</td>\n",
       "      <td>145.0</td>\n",
       "    </tr>\n",
       "  </tbody>\n",
       "</table>\n",
       "</div>"
      ],
      "text/plain": [
       "        Partido   Localidad  link Indec  Velocidad (Mbps)  Provincia  Accesos\n",
       "0  BUENOS AIRES  25 de Mayo  25 de Mayo         6854100.0          0      1.0\n",
       "1  BUENOS AIRES  25 de Mayo  25 de Mayo         6854100.0          0      2.0\n",
       "2  BUENOS AIRES  25 de Mayo  25 de Mayo         6854100.0          0     19.0\n",
       "3  BUENOS AIRES  25 de Mayo  25 de Mayo         6854100.0          3     85.0\n",
       "4  BUENOS AIRES  25 de Mayo  25 de Mayo         6854100.0          3    145.0"
      ]
     },
     "execution_count": 88,
     "metadata": {},
     "output_type": "execute_result"
    }
   ],
   "source": [
    "#  Guardar el dataset limpio\n",
    "df_velocidad_localidad.to_csv(\"Internet_Acc_vel_loc_sinrangos_Limpio.csv\", index=False)\n",
    "\n",
    "df_velocidad_localidad.head()"
   ]
  },
  {
   "cell_type": "code",
   "execution_count": 91,
   "metadata": {},
   "outputs": [
    {
     "name": "stdout",
     "output_type": "stream",
     "text": [
      "<class 'pandas.core.frame.DataFrame'>\n",
      "Index: 18540 entries, 0 to 18863\n",
      "Data columns (total 6 columns):\n",
      " #   Column            Non-Null Count  Dtype  \n",
      "---  ------            --------------  -----  \n",
      " 0   Partido           18540 non-null  object \n",
      " 1   Localidad         18540 non-null  object \n",
      " 2   link Indec        18540 non-null  object \n",
      " 3   Velocidad (Mbps)  18540 non-null  float64\n",
      " 4   Provincia         18540 non-null  int64  \n",
      " 5   Accesos           18540 non-null  float64\n",
      "dtypes: float64(2), int64(1), object(3)\n",
      "memory usage: 1013.9+ KB\n",
      "None\n",
      "       Velocidad (Mbps)     Provincia        Accesos\n",
      "count      1.854000e+04  18540.000000   18540.000000\n",
      "mean       3.264770e+07     67.854585     614.758198\n",
      "std        2.962065e+07    180.216336    6299.884475\n",
      "min        2.000010e+06      0.000000       0.000000\n",
      "25%        6.560010e+06      3.000000       4.000000\n",
      "50%        1.416104e+07     10.000000      28.000000\n",
      "75%        5.808403e+07     30.000000     185.000000\n",
      "max        9.401402e+07   1000.000000  576789.000000\n"
     ]
    }
   ],
   "source": [
    "print(df_velocidad_localidad.info())\n",
    "\n",
    "# Resumen estadístico (solo para columnas numéricas)\n",
    "print(df_velocidad_localidad.describe())"
   ]
  },
  {
   "cell_type": "code",
   "execution_count": null,
   "metadata": {},
   "outputs": [],
   "source": [
    "#rangos_velocidad"
   ]
  },
  {
   "cell_type": "code",
   "execution_count": 90,
   "metadata": {},
   "outputs": [
    {
     "name": "stdout",
     "output_type": "stream",
     "text": [
      "    Año  Trimestre        Provincia  HASTA 512 kbps  + 512 Kbps - 1 Mbps  \\\n",
      "0  2024          2     Buenos Aires         25287.0              23034.0   \n",
      "1  2024          2  Capital Federal           518.0               4122.0   \n",
      "2  2024          2        Catamarca            72.0                164.0   \n",
      "3  2024          2            Chaco           236.0                349.0   \n",
      "4  2024          2           Chubut           125.0               1139.0   \n",
      "\n",
      "   + 1 Mbps - 6 Mbps  + 6 Mbps - 10 Mbps  + 10 Mbps - 20 Mbps  \\\n",
      "0           222627.0            221660.0             244528.0   \n",
      "1            24539.0             40296.0              33158.0   \n",
      "2             2660.0              3093.0               3799.0   \n",
      "3            14594.0              8336.0               6208.0   \n",
      "4            43699.0             31971.0              22696.0   \n",
      "\n",
      "   + 20 Mbps - 30 Mbps  + 30 Mbps     OTROS      Total  \n",
      "0             106302.0  4020395.0  125547.0  4989380.0  \n",
      "1               5633.0  1355333.0       0.0  1463599.0  \n",
      "2               1279.0    63954.0      53.0    75074.0  \n",
      "3               6454.0   107707.0    3208.0   147092.0  \n",
      "4              19827.0    38212.0   16554.0   174223.0  \n",
      "<class 'pandas.core.frame.DataFrame'>\n",
      "RangeIndex: 1000 entries, 0 to 999\n",
      "Data columns (total 12 columns):\n",
      " #   Column               Non-Null Count  Dtype  \n",
      "---  ------               --------------  -----  \n",
      " 0   Año                  1000 non-null   int64  \n",
      " 1   Trimestre            1000 non-null   int64  \n",
      " 2   Provincia            1000 non-null   object \n",
      " 3   HASTA 512 kbps       1000 non-null   float64\n",
      " 4   + 512 Kbps - 1 Mbps  1000 non-null   float64\n",
      " 5   + 1 Mbps - 6 Mbps    1000 non-null   float64\n",
      " 6   + 6 Mbps - 10 Mbps   1000 non-null   float64\n",
      " 7   + 10 Mbps - 20 Mbps  1000 non-null   float64\n",
      " 8   + 20 Mbps - 30 Mbps  1000 non-null   float64\n",
      " 9   + 30 Mbps            1000 non-null   float64\n",
      " 10  OTROS                994 non-null    float64\n",
      " 11  Total                1000 non-null   float64\n",
      "dtypes: float64(9), int64(2), object(1)\n",
      "memory usage: 93.9+ KB\n",
      "None\n",
      "               Año    Trimestre  HASTA 512 kbps  + 512 Kbps - 1 Mbps  \\\n",
      "count  1000.000000  1000.000000     1000.000000          1000.000000   \n",
      "mean   2018.824000     2.464000     1953.317000          8864.257000   \n",
      "std       3.058493     1.114426    12676.575806         20312.520997   \n",
      "min    2014.000000     1.000000        6.000000             0.000000   \n",
      "25%    2016.000000     1.000000       43.250000           389.750000   \n",
      "50%    2019.000000     2.000000      107.000000          2061.000000   \n",
      "75%    2021.000000     3.000000      466.250000          6851.500000   \n",
      "max    2024.000000     4.000000   238920.000000        171244.480000   \n",
      "\n",
      "       + 1 Mbps - 6 Mbps  + 6 Mbps - 10 Mbps  + 10 Mbps - 20 Mbps  \\\n",
      "count       1.000000e+03         1000.000000          1000.000000   \n",
      "mean        1.327725e+05        38408.510000         37138.329000   \n",
      "std         3.222569e+05        64156.365883         88290.744464   \n",
      "min         1.124000e+03            0.000000             0.000000   \n",
      "25%         2.381250e+04         3876.750000          2706.750000   \n",
      "50%         4.213250e+04        13932.000000         10503.000000   \n",
      "75%         8.371025e+04        42593.500000         26463.750000   \n",
      "max         2.299705e+06       403575.000000        886678.000000   \n",
      "\n",
      "       + 20 Mbps - 30 Mbps     + 30 Mbps          OTROS         Total  \n",
      "count          1000.000000  1.000000e+03     994.000000  1.000000e+03  \n",
      "mean          20091.330000  1.222098e+05    6510.467807  3.679094e+05  \n",
      "std           69299.281156  4.657500e+05   15344.465875  7.899348e+05  \n",
      "min               0.000000  0.000000e+00   -1945.000000  1.240600e+04  \n",
      "25%              43.750000  1.500000e+01       0.000000  6.234225e+04  \n",
      "50%            1658.000000  4.253500e+03     346.500000  1.136205e+05  \n",
      "75%           10109.250000  4.339925e+04    6830.750000  1.969198e+05  \n",
      "max          949093.000000  4.068292e+06  125547.000000  5.044557e+06  \n"
     ]
    }
   ],
   "source": [
    "df_rangos_velocidad = pd.read_csv(\"C:/Users/rosad/OneDrive/Desktop/Leonela/DataAnalist/Telecomunicaciones/Notebooks/Principales/Internet_Accesos por rangos.csv\")\n",
    "\n",
    "# Ver primeras filas\n",
    "print(df_rangos_velocidad.head())\n",
    "\n",
    "# Información general (tipos de datos, nulos, memoria usada)\n",
    "print(df_rangos_velocidad.info())\n",
    "\n",
    "# Resumen estadístico (solo para columnas numéricas)\n",
    "print(df_rangos_velocidad.describe())"
   ]
  },
  {
   "cell_type": "code",
   "execution_count": 45,
   "metadata": {},
   "outputs": [],
   "source": [
    "# Convertir las columnas de velocidades a enteros (evitando errores con NaN)\n",
    "columnas_velocidad = [\n",
    "    \"HASTA 512 kbps\", \"+ 512 Kbps - 1 Mbps\", \"+ 1 Mbps - 6 Mbps\", \n",
    "    \"+ 6 Mbps - 10 Mbps\", \"+ 10 Mbps - 20 Mbps\", \"+ 20 Mbps - 30 Mbps\", \n",
    "    \"+ 30 Mbps\", \"OTROS\", \"Total\"\n",
    "]\n",
    "\n",
    "for col in columnas_velocidad:\n",
    "    df_rangos_velocidad[col] = pd.to_numeric(df_rangos_velocidad[col], errors=\"coerce\").fillna(0).astype(int)"
   ]
  },
  {
   "cell_type": "code",
   "execution_count": 47,
   "metadata": {},
   "outputs": [
    {
     "name": "stdout",
     "output_type": "stream",
     "text": [
      "<class 'pandas.core.frame.DataFrame'>\n",
      "RangeIndex: 1000 entries, 0 to 999\n",
      "Data columns (total 12 columns):\n",
      " #   Column               Non-Null Count  Dtype \n",
      "---  ------               --------------  ----- \n",
      " 0   Año                  1000 non-null   int64 \n",
      " 1   Trimestre            1000 non-null   int64 \n",
      " 2   Provincia            1000 non-null   object\n",
      " 3   HASTA 512 kbps       1000 non-null   int64 \n",
      " 4   + 512 Kbps - 1 Mbps  1000 non-null   int64 \n",
      " 5   + 1 Mbps - 6 Mbps    1000 non-null   int64 \n",
      " 6   + 6 Mbps - 10 Mbps   1000 non-null   int64 \n",
      " 7   + 10 Mbps - 20 Mbps  1000 non-null   int64 \n",
      " 8   + 20 Mbps - 30 Mbps  1000 non-null   int64 \n",
      " 9   + 30 Mbps            1000 non-null   int64 \n",
      " 10  OTROS                1000 non-null   int64 \n",
      " 11  Total                1000 non-null   int64 \n",
      "dtypes: int64(11), object(1)\n",
      "memory usage: 93.9+ KB\n",
      "None\n",
      "    Año  Trimestre        Provincia  HASTA 512 kbps  + 512 Kbps - 1 Mbps  \\\n",
      "0  2024          2     Buenos Aires           25287                23034   \n",
      "1  2024          2  Capital Federal             518                 4122   \n",
      "2  2024          2        Catamarca              72                  164   \n",
      "3  2024          2            Chaco             236                  349   \n",
      "4  2024          2           Chubut             125                 1139   \n",
      "\n",
      "   + 1 Mbps - 6 Mbps  + 6 Mbps - 10 Mbps  + 10 Mbps - 20 Mbps  \\\n",
      "0             222627              221660               244528   \n",
      "1              24539               40296                33158   \n",
      "2               2660                3093                 3799   \n",
      "3              14594                8336                 6208   \n",
      "4              43699               31971                22696   \n",
      "\n",
      "   + 20 Mbps - 30 Mbps  + 30 Mbps   OTROS    Total  \n",
      "0               106302    4020395  125547  4989380  \n",
      "1                 5633    1355333       0  1463599  \n",
      "2                 1279      63954      53    75074  \n",
      "3                 6454     107707    3208   147092  \n",
      "4                19827      38212   16554   174223  \n"
     ]
    }
   ],
   "source": [
    "print(df_rangos_velocidad.info())\n",
    "print(df_rangos_velocidad.head())"
   ]
  },
  {
   "cell_type": "code",
   "execution_count": 48,
   "metadata": {},
   "outputs": [
    {
     "name": "stdout",
     "output_type": "stream",
     "text": [
      "Valores nulos por columna:\n",
      "Año                    0\n",
      "Trimestre              0\n",
      "Provincia              0\n",
      "HASTA 512 kbps         0\n",
      "+ 512 Kbps - 1 Mbps    0\n",
      "+ 1 Mbps - 6 Mbps      0\n",
      "+ 6 Mbps - 10 Mbps     0\n",
      "+ 10 Mbps - 20 Mbps    0\n",
      "+ 20 Mbps - 30 Mbps    0\n",
      "+ 30 Mbps              0\n",
      "OTROS                  0\n",
      "Total                  0\n",
      "dtype: int64\n",
      "Cantidad de filas duplicadas: 0\n"
     ]
    }
   ],
   "source": [
    "# Valores nulos por columna\n",
    "print(\"Valores nulos por columna:\")\n",
    "print(df_rangos_velocidad.isnull().sum())\n",
    "\n",
    "# Filas duplicadas\n",
    "print(\"Cantidad de filas duplicadas:\", df_rangos_velocidad.duplicated().sum())"
   ]
  },
  {
   "cell_type": "code",
   "execution_count": null,
   "metadata": {},
   "outputs": [],
   "source": [
    "df_rangos_velocidad.to_csv(\"Internet_Accesos_rangos_Limpio.csv\", index=False)"
   ]
  },
  {
   "cell_type": "code",
   "execution_count": 59,
   "metadata": {},
   "outputs": [
    {
     "name": "stdout",
     "output_type": "stream",
     "text": [
      "    Año Trimestre        Provincia      ADSL  Cablemodem  Fibra óptica  \\\n",
      "0  2024         2     Buenos Aires  214055.0   2722466.0     1849476.0   \n",
      "1  2024         2  Capital Federal   54102.0   1144781.0      230402.0   \n",
      "2  2024         2        Catamarca    4951.0     10303.0       58355.0   \n",
      "3  2024         2            Chaco    9448.0     57935.0       68944.0   \n",
      "4  2024         2           Chubut   25955.0     80704.0       26516.0   \n",
      "\n",
      "   Wireless    Otros      Total  \n",
      "0  138638.0  64745.0  4989380.0  \n",
      "1    4493.0  29821.0  1463599.0  \n",
      "2    1384.0     81.0    75074.0  \n",
      "3    8407.0   2358.0   147092.0  \n",
      "4   31118.0   9930.0   174223.0  \n",
      "<class 'pandas.core.frame.DataFrame'>\n",
      "RangeIndex: 1009 entries, 0 to 1008\n",
      "Data columns (total 9 columns):\n",
      " #   Column        Non-Null Count  Dtype  \n",
      "---  ------        --------------  -----  \n",
      " 0   Año           1008 non-null   object \n",
      " 1   Trimestre     1008 non-null   object \n",
      " 2   Provincia     1007 non-null   object \n",
      " 3   ADSL          1007 non-null   float64\n",
      " 4   Cablemodem    1007 non-null   float64\n",
      " 5   Fibra óptica  1007 non-null   float64\n",
      " 6   Wireless      1007 non-null   float64\n",
      " 7   Otros         1007 non-null   float64\n",
      " 8   Total         1007 non-null   float64\n",
      "dtypes: float64(6), object(3)\n",
      "memory usage: 71.1+ KB\n",
      "None\n"
     ]
    }
   ],
   "source": [
    "\n",
    "df_accesos_tecnologia = pd.read_csv(\"C:/Users/rosad/OneDrive/Desktop/Leonela/DataAnalist/Telecomunicaciones/Notebooks/Principales/Internet_Accesos por tecnología.csv\")\n",
    "\n",
    "# Ver primeras filas\n",
    "print(df_accesos_tecnologia.head())\n",
    "\n",
    "# Información general (tipos de datos, nulos, memoria usada)\n",
    "print(df_accesos_tecnologia.info())\n",
    "\n",
    "\n",
    "\n"
   ]
  },
  {
   "cell_type": "code",
   "execution_count": 60,
   "metadata": {},
   "outputs": [
    {
     "name": "stdout",
     "output_type": "stream",
     "text": [
      "               ADSL    Cablemodem  Fibra óptica       Wireless         Otros  \\\n",
      "count  1.007000e+03  1.007000e+03  1.007000e+03    1007.000000   1007.000000   \n",
      "mean   1.129309e+05  1.821583e+05  4.855699e+04   12542.229394   6497.041708   \n",
      "std    2.362922e+05  4.460058e+05  1.758694e+05   20909.412762  11239.855091   \n",
      "min    2.230000e+03  0.000000e+00  0.000000e+00       0.000000      2.000000   \n",
      "25%    1.978950e+04  1.102050e+04  3.540000e+02     813.000000    334.500000   \n",
      "50%    4.396700e+04  4.075000e+04  3.015000e+03    5224.000000   1920.000000   \n",
      "75%    8.722000e+04  7.678350e+04  2.925700e+04   14367.500000   7548.000000   \n",
      "max    1.586343e+06  2.797700e+06  1.849476e+06  138638.000000  73415.000000   \n",
      "\n",
      "              Total  \n",
      "count  1.007000e+03  \n",
      "mean   3.626854e+05  \n",
      "std    7.773137e+05  \n",
      "min    1.255700e+04  \n",
      "25%    6.241150e+04  \n",
      "50%    1.139150e+05  \n",
      "75%    1.956520e+05  \n",
      "max    5.011620e+06  \n"
     ]
    }
   ],
   "source": [
    "# Resumen estadístico (solo para columnas numéricas)\n",
    "print(df_accesos_tecnologia.describe())"
   ]
  },
  {
   "cell_type": "code",
   "execution_count": 57,
   "metadata": {},
   "outputs": [
    {
     "name": "stdout",
     "output_type": "stream",
     "text": [
      "Valores nulos por columna:\n",
      "Año             1\n",
      "Trimestre       1\n",
      "Provincia       2\n",
      "ADSL            2\n",
      "Cablemodem      2\n",
      "Fibra óptica    2\n",
      "Wireless        2\n",
      "Otros           2\n",
      "Total           2\n",
      "dtype: int64\n",
      "Cantidad de filas duplicadas: 0\n"
     ]
    }
   ],
   "source": [
    "# Valores nulos por columna\n",
    "print(\"Valores nulos por columna:\")\n",
    "print(df_accesos_tecnologia.isnull().sum())\n",
    "\n",
    "# Filas duplicadas\n",
    "print(\"Cantidad de filas duplicadas:\", df_accesos_tecnologia.duplicated().sum())"
   ]
  },
  {
   "cell_type": "code",
   "execution_count": 63,
   "metadata": {},
   "outputs": [],
   "source": [
    "df_accesos_tecnologia = df_accesos_tecnologia.dropna()"
   ]
  },
  {
   "cell_type": "code",
   "execution_count": 64,
   "metadata": {},
   "outputs": [
    {
     "name": "stdout",
     "output_type": "stream",
     "text": [
      "               ADSL    Cablemodem  Fibra óptica       Wireless         Otros  \\\n",
      "count  1.007000e+03  1.007000e+03  1.007000e+03    1007.000000   1007.000000   \n",
      "mean   1.129309e+05  1.821583e+05  4.855699e+04   12542.229394   6497.041708   \n",
      "std    2.362922e+05  4.460058e+05  1.758694e+05   20909.412762  11239.855091   \n",
      "min    2.230000e+03  0.000000e+00  0.000000e+00       0.000000      2.000000   \n",
      "25%    1.978950e+04  1.102050e+04  3.540000e+02     813.000000    334.500000   \n",
      "50%    4.396700e+04  4.075000e+04  3.015000e+03    5224.000000   1920.000000   \n",
      "75%    8.722000e+04  7.678350e+04  2.925700e+04   14367.500000   7548.000000   \n",
      "max    1.586343e+06  2.797700e+06  1.849476e+06  138638.000000  73415.000000   \n",
      "\n",
      "              Total  \n",
      "count  1.007000e+03  \n",
      "mean   3.626854e+05  \n",
      "std    7.773137e+05  \n",
      "min    1.255700e+04  \n",
      "25%    6.241150e+04  \n",
      "50%    1.139150e+05  \n",
      "75%    1.956520e+05  \n",
      "max    5.011620e+06  \n"
     ]
    }
   ],
   "source": [
    "print(df_accesos_tecnologia.describe())"
   ]
  },
  {
   "cell_type": "code",
   "execution_count": 68,
   "metadata": {},
   "outputs": [
    {
     "data": {
      "image/png": "[encoded data removed]",
      "text/plain": [
       "<Figure size 1200x800 with 1 Axes>"
      ]
     },
     "metadata": {},
     "output_type": "display_data"
    }
   ],
   "source": [
    "# Seleccionamos las columnas numéricas\n",
    "numerical_columns = ['ADSL', 'Cablemodem', 'Fibra óptica', 'Wireless', 'Otros', 'Total']\n",
    "\n",
    "# Crear boxplot para cada columna numérica\n",
    "plt.figure(figsize=(12, 8))\n",
    "sns.boxplot(data=df_accesos_tecnologia[numerical_columns])\n",
    "plt.xticks(rotation=90)\n",
    "plt.show()\n"
   ]
  },
  {
   "cell_type": "code",
   "execution_count": null,
   "metadata": {},
   "outputs": [],
   "source": [
    "#Algunas provincias pueden tener una mayor cantidad de accesos en comparación con otras, lo que genera valores extremos.\n",
    "#Los valores atípicos son reales (por ejemplo, si Buenos Aires tiene muchos más accesos que Catamarca)\n"
   ]
  },
  {
   "cell_type": "code",
   "execution_count": 69,
   "metadata": {},
   "outputs": [],
   "source": [
    "# Crear una columna con la suma de las categorías individuales\n",
    "df_accesos_tecnologia[\"Total_Calculado\"] = (\n",
    "    df_accesos_tecnologia[\"ADSL\"] +\n",
    "    df_accesos_tecnologia[\"Cablemodem\"] +\n",
    "    df_accesos_tecnologia[\"Fibra óptica\"] +\n",
    "    df_accesos_tecnologia[\"Wireless\"] +\n",
    "    df_accesos_tecnologia[\"Otros\"]\n",
    ")\n",
    "\n",
    "# Verificar si hay discrepancias entre \"Total\" y la suma calculada\n",
    "df_discrepancias = df_accesos_tecnologia[df_accesos_tecnologia[\"Total\"] != df_accesos_tecnologia[\"Total_Calculado\"]]\n"
   ]
  },
  {
   "cell_type": "code",
   "execution_count": 70,
   "metadata": {},
   "outputs": [
    {
     "name": "stdout",
     "output_type": "stream",
     "text": [
      "Cantidad de filas con discrepancias: 0\n",
      "Empty DataFrame\n",
      "Columns: [Provincia, Año, Trimestre, Total, Total_Calculado]\n",
      "Index: []\n"
     ]
    }
   ],
   "source": [
    "\n",
    "# Mostrar cuántas discrepancias hay y las primeras filas con error\n",
    "print(f\"Cantidad de filas con discrepancias: {len(df_discrepancias)}\")\n",
    "print(df_discrepancias[[\"Provincia\", \"Año\", \"Trimestre\", \"Total\", \"Total_Calculado\"]].head())\n"
   ]
  },
  {
   "cell_type": "code",
   "execution_count": null,
   "metadata": {},
   "outputs": [],
   "source": [
    "df_accesos_tecnologia.to_csv(\"Internet_Accesos_tecnología_Limpio.csv\", index=False)"
   ]
  },
  {
   "cell_type": "code",
   "execution_count": null,
   "metadata": {},
   "outputs": [],
   "source": [
    "# Tabla: Internet_Penetracion-hogares"
   ]
  },
  {
   "cell_type": "code",
   "execution_count": null,
   "metadata": {},
   "outputs": [
    {
     "name": "stdout",
     "output_type": "stream",
     "text": [
      "    Año  Trimestre        Provincia  Accesos por cada 100 hogares\n",
      "0  2024          2     Buenos Aires                         79.84\n",
      "1  2024          2  Capital Federal                        116.37\n",
      "2  2024          2        Catamarca                         68.81\n",
      "3  2024          2            Chaco                         44.06\n",
      "4  2024          2           Chubut                         86.33\n",
      "<class 'pandas.core.frame.DataFrame'>\n",
      "RangeIndex: 1000 entries, 0 to 999\n",
      "Data columns (total 4 columns):\n",
      " #   Column                        Non-Null Count  Dtype  \n",
      "---  ------                        --------------  -----  \n",
      " 0   Año                           1000 non-null   int64  \n",
      " 1   Trimestre                     1000 non-null   int64  \n",
      " 2   Provincia                     1000 non-null   object \n",
      " 3   Accesos por cada 100 hogares  1000 non-null   float64\n",
      "dtypes: float64(1), int64(2), object(1)\n",
      "memory usage: 31.4+ KB\n",
      "None\n",
      "               Año    Trimestre  Accesos por cada 100 hogares\n",
      "count  1000.000000  1000.000000                   1000.000000\n",
      "mean   2018.800000     2.464000                     52.794973\n",
      "std       3.021445     1.114426                     24.135063\n",
      "min    2014.000000     1.000000                      9.513970\n",
      "25%    2016.000000     1.000000                     33.957657\n",
      "50%    2019.000000     2.000000                     50.133004\n",
      "75%    2021.000000     3.000000                     67.010861\n",
      "max    2024.000000     4.000000                    124.061394\n"
     ]
    }
   ],
   "source": [
    "pd.read_csv(\"C:/Users/rosad/OneDrive/Desktop/Leonela/DataAnalist/Telecomunicaciones/Notebooks/Principales/Internet_Penetracion-hogares.csv\")\n",
    "\n",
    "df_penetracion_hogares = \n",
    "# Ver primeras filas\n",
    "print(df_penetracion_hogares.head())\n",
    "\n",
    "# Información general (tipos de datos, nulos, memoria usada)\n",
    "print(df_penetracion_hogares.info())\n",
    "\n",
    "# Resumen estadístico (solo para columnas numéricas)\n",
    "print(df_penetracion_hogares.describe())"
   ]
  },
  {
   "cell_type": "code",
   "execution_count": 79,
   "metadata": {},
   "outputs": [
    {
     "name": "stdout",
     "output_type": "stream",
     "text": [
      "Valores nulos por columna:\n",
      "Año                             0\n",
      "Trimestre                       0\n",
      "Provincia                       0\n",
      "Accesos por cada 100 hogares    0\n",
      "dtype: int64\n",
      "Cantidad de filas duplicadas: 0\n"
     ]
    }
   ],
   "source": [
    "# Valores nulos por columna\n",
    "print(\"Valores nulos por columna:\")\n",
    "print(df_penetracion_hogares.isnull().sum())\n",
    "\n",
    "# Filas duplicadas\n",
    "print(\"Cantidad de filas duplicadas:\", df_penetracion_hogares.duplicated().sum())"
   ]
  },
  {
   "cell_type": "code",
   "execution_count": null,
   "metadata": {},
   "outputs": [],
   "source": [
    "##### \"penetracion_poblacion\": \"Internet_Penetración-poblacion.csv\","
   ]
  },
  {
   "cell_type": "code",
   "execution_count": 92,
   "metadata": {},
   "outputs": [
    {
     "name": "stdout",
     "output_type": "stream",
     "text": [
      "    Año  Trimestre        Provincia  Accesos por cada 100 hab\n",
      "0  2024          2     Buenos Aires                     27.43\n",
      "1  2024          2  Capital Federal                     47.44\n",
      "2  2024          2        Catamarca                     17.50\n",
      "3  2024          2            Chaco                     11.78\n",
      "4  2024          2           Chubut                     26.46\n",
      "<class 'pandas.core.frame.DataFrame'>\n",
      "RangeIndex: 1000 entries, 0 to 999\n",
      "Data columns (total 4 columns):\n",
      " #   Column                    Non-Null Count  Dtype  \n",
      "---  ------                    --------------  -----  \n",
      " 0   Año                       1000 non-null   int64  \n",
      " 1   Trimestre                 1000 non-null   int64  \n",
      " 2   Provincia                 1000 non-null   object \n",
      " 3   Accesos por cada 100 hab  1000 non-null   float64\n",
      "dtypes: float64(1), int64(2), object(1)\n",
      "memory usage: 31.4+ KB\n",
      "None\n",
      "               Año    Trimestre  Accesos por cada 100 hab\n",
      "count  1000.000000  1000.000000               1000.000000\n",
      "mean   2018.800000     2.464000                 15.727248\n",
      "std       3.021445     1.114426                  9.240063\n",
      "min    2014.000000     1.000000                  2.723000\n",
      "25%    2016.000000     1.000000                  9.018188\n",
      "50%    2019.000000     2.000000                 13.674812\n",
      "75%    2021.000000     3.000000                 20.323973\n",
      "max    2024.000000     4.000000                 52.236739\n"
     ]
    }
   ],
   "source": [
    "df_penetracion_poblacion = pd.read_csv(\"C:/Users/rosad/OneDrive/Desktop/Leonela/DataAnalist/Telecomunicaciones/Notebooks/Principales/Internet_Penetración-poblacion.csv\")\n",
    "\n",
    "# Ver primeras filas\n",
    "print(df_penetracion_poblacion.head())\n",
    "\n",
    "# Información general (tipos de datos, nulos, memoria usada)\n",
    "print(df_penetracion_poblacion.info())\n",
    "\n",
    "# Resumen estadístico (solo para columnas numéricas)\n",
    "print(df_penetracion_poblacion.describe())"
   ]
  },
  {
   "cell_type": "code",
   "execution_count": 93,
   "metadata": {},
   "outputs": [
    {
     "name": "stdout",
     "output_type": "stream",
     "text": [
      "Cantidad de filas duplicadas: 0\n"
     ]
    }
   ],
   "source": [
    "# Filas duplicadas\n",
    "print(\"Cantidad de filas duplicadas:\", df_penetracion_poblacion.duplicated().sum())"
   ]
  },
  {
   "cell_type": "code",
   "execution_count": null,
   "metadata": {},
   "outputs": [],
   "source": [
    "#####\"velocidad_provincia\": \"Internet_Velocidad % por prov.csv\","
   ]
  },
  {
   "cell_type": "code",
   "execution_count": 94,
   "metadata": {},
   "outputs": [
    {
     "name": "stdout",
     "output_type": "stream",
     "text": [
      "    Año  Trimestre        Provincia  Mbps (Media de bajada)\n",
      "0  2024          2     Buenos Aires                  157.41\n",
      "1  2024          2  Capital Federal                  233.01\n",
      "2  2024          2        Catamarca                   97.38\n",
      "3  2024          2            Chaco                  107.76\n",
      "4  2024          2           Chubut                   21.67\n",
      "<class 'pandas.core.frame.DataFrame'>\n",
      "RangeIndex: 1008 entries, 0 to 1007\n",
      "Data columns (total 4 columns):\n",
      " #   Column                  Non-Null Count  Dtype  \n",
      "---  ------                  --------------  -----  \n",
      " 0   Año                     1008 non-null   int64  \n",
      " 1   Trimestre               1008 non-null   int64  \n",
      " 2   Provincia               1008 non-null   object \n",
      " 3   Mbps (Media de bajada)  1008 non-null   float64\n",
      "dtypes: float64(1), int64(2), object(1)\n",
      "memory usage: 31.6+ KB\n",
      "None\n",
      "               Año    Trimestre  Mbps (Media de bajada)\n",
      "count  1008.000000  1008.000000             1008.000000\n",
      "mean   2018.761905     2.452381               24.720245\n",
      "std       3.039439     1.117574               33.660764\n",
      "min    2014.000000     1.000000                2.573729\n",
      "25%    2016.000000     1.000000                4.866698\n",
      "50%    2019.000000     2.000000               10.089315\n",
      "75%    2021.000000     3.000000               29.875292\n",
      "max    2024.000000     4.000000              234.440000\n"
     ]
    }
   ],
   "source": [
    "df_velocidad_provincia = pd.read_csv(\"C:/Users/rosad/OneDrive/Desktop/Leonela/DataAnalist/Telecomunicaciones/Notebooks/Principales/Internet_Velocidad % por prov.csv\")\n",
    "\n",
    "# Ver primeras filas\n",
    "print(df_velocidad_provincia.head())\n",
    "\n",
    "# Información general (tipos de datos, nulos, memoria usada)\n",
    "print(df_velocidad_provincia.info())\n",
    "\n",
    "# Resumen estadístico (solo para columnas numéricas)\n",
    "print(df_velocidad_provincia.describe())"
   ]
  },
  {
   "cell_type": "code",
   "execution_count": 95,
   "metadata": {},
   "outputs": [
    {
     "name": "stdout",
     "output_type": "stream",
     "text": [
      "Cantidad de filas duplicadas: 0\n"
     ]
    }
   ],
   "source": [
    "# Filas duplicadas\n",
    "print(\"Cantidad de filas duplicadas:\", df_penetracion_poblacion.duplicated().sum())"
   ]
  },
  {
   "cell_type": "code",
   "execution_count": null,
   "metadata": {},
   "outputs": [],
   "source": [
    "######\"ingresos\": \"Internet_Ingresos .csv\""
   ]
  },
  {
   "cell_type": "code",
   "execution_count": 96,
   "metadata": {},
   "outputs": [
    {
     "name": "stdout",
     "output_type": "stream",
     "text": [
      "    Año  Trimestre  Ingresos (miles de pesos)        Periodo\n",
      "0  2024          2               4.420322e+08   Abr-Jun 2024\n",
      "1  2024          1               3.461990e+08   Ene-Mar 2024\n",
      "2  2023          4               1.673760e+08   Oct-Dic 2023\n",
      "3  2023          3               1.331066e+08  Jul-Sept 2023\n",
      "4  2023          2               1.180603e+08   Jun-Mar 2023\n",
      "<class 'pandas.core.frame.DataFrame'>\n",
      "RangeIndex: 42 entries, 0 to 41\n",
      "Data columns (total 4 columns):\n",
      " #   Column                     Non-Null Count  Dtype  \n",
      "---  ------                     --------------  -----  \n",
      " 0   Año                        42 non-null     int64  \n",
      " 1   Trimestre                  42 non-null     int64  \n",
      " 2   Ingresos (miles de pesos)  42 non-null     float64\n",
      " 3   Periodo                    42 non-null     object \n",
      "dtypes: float64(1), int64(2), object(1)\n",
      "memory usage: 1.4+ KB\n",
      "None\n",
      "               Año  Trimestre  Ingresos (miles de pesos)\n",
      "count    42.000000  42.000000               4.200000e+01\n",
      "mean   2019.000000   2.452381               5.001648e+07\n",
      "std       3.728597   1.130560               8.710208e+07\n",
      "min    2014.000000   1.000000               2.984054e+06\n",
      "25%    2016.000000   1.250000               7.055326e+06\n",
      "50%    2019.000000   2.000000               2.047527e+07\n",
      "75%    2021.000000   3.000000               4.485090e+07\n",
      "max    2033.000000   4.000000               4.420322e+08\n"
     ]
    }
   ],
   "source": [
    "df_ingresos = pd.read_csv(\"C:/Users/rosad/OneDrive/Desktop/Leonela/DataAnalist/Telecomunicaciones/Notebooks/Principales/Internet_Ingresos .csv\")\n",
    "\n",
    "# Ver primeras filas\n",
    "print(df_ingresos.head())\n",
    "\n",
    "# Información general (tipos de datos, nulos, memoria usada)\n",
    "print(df_ingresos.info())\n",
    "\n",
    "# Resumen estadístico (solo para columnas numéricas)\n",
    "print(df_ingresos.describe())"
   ]
  },
  {
   "cell_type": "code",
   "execution_count": 100,
   "metadata": {},
   "outputs": [
    {
     "name": "stdout",
     "output_type": "stream",
     "text": [
      "Columnas de velocidad_localidad:\n",
      "\n",
      "Columnas de rangos_velocidad:\n",
      "\n",
      "Columnas de accesos_tecnologia:\n",
      "    Año Trimestre        Provincia      ADSL  Cablemodem  Fibra óptica  \\\n",
      "0  2024         2     Buenos Aires  214055.0   2722466.0     1849476.0   \n",
      "1  2024         2  Capital Federal   54102.0   1144781.0      230402.0   \n",
      "2  2024         2        Catamarca    4951.0     10303.0       58355.0   \n",
      "3  2024         2            Chaco    9448.0     57935.0       68944.0   \n",
      "4  2024         2           Chubut   25955.0     80704.0       26516.0   \n",
      "\n",
      "   Wireless    Otros      Total  Total_Calculado  \n",
      "0  138638.0  64745.0  4989380.0        4989380.0  \n",
      "1    4493.0  29821.0  1463599.0        1463599.0  \n",
      "2    1384.0     81.0    75074.0          75074.0  \n",
      "3    8407.0   2358.0   147092.0         147092.0  \n",
      "4   31118.0   9930.0   174223.0         174223.0  \n",
      "\n",
      "Columnas de penetracion_poblacion:\n",
      "    Año  Trimestre        Provincia  Accesos por cada 100 hab\n",
      "0  2024          2     Buenos Aires                     27.43\n",
      "1  2024          2  Capital Federal                     47.44\n",
      "2  2024          2        Catamarca                     17.50\n",
      "3  2024          2            Chaco                     11.78\n",
      "4  2024          2           Chubut                     26.46\n",
      "\n",
      "Columnas de velocidad_provincia:\n",
      "    Año  Trimestre        Provincia  Mbps (Media de bajada)\n",
      "0  2024          2     Buenos Aires                  157.41\n",
      "1  2024          2  Capital Federal                  233.01\n",
      "2  2024          2        Catamarca                   97.38\n",
      "3  2024          2            Chaco                  107.76\n",
      "4  2024          2           Chubut                   21.67\n",
      "\n",
      "Columnas de ingresos:\n",
      "    Año  Trimestre  Ingresos (miles de pesos)        Periodo\n",
      "0  2024          2               4.420322e+08   Abr-Jun 2024\n",
      "1  2024          1               3.461990e+08   Ene-Mar 2024\n",
      "2  2023          4               1.673760e+08   Oct-Dic 2023\n",
      "3  2023          3               1.331066e+08  Jul-Sept 2023\n",
      "4  2023          2               1.180603e+08   Jun-Mar 2023\n"
     ]
    }
   ],
   "source": [
    "# Mostrar las columnas de cada DataFrame\n",
    "print(\"Columnas de velocidad_localidad:\")\n",
    "#print(df_velocidad_localidad.head())\n",
    "print(\"\\nColumnas de rangos_velocidad:\")\n",
    "#print(df_rangos_velocidad.head())\n",
    "print(\"\\nColumnas de accesos_tecnologia:\")\n",
    "print(df_accesos_tecnologia.head())\n",
    "print(\"\\nColumnas de penetracion_poblacion:\")\n",
    "print(df_penetracion_poblacion.head())\n",
    "print(\"\\nColumnas de velocidad_provincia:\")\n",
    "print(df_velocidad_provincia.head())\n",
    "print(\"\\nColumnas de ingresos:\")\n",
    "print(df_ingresos.head())"
   ]
  }
 ],
 "metadata": {
  "kernelspec": {
   "display_name": "Python 3",
   "language": "python",
   "name": "python3"
  },
  "language_info": {
   "codemirror_mode": {
    "name": "ipython",
    "version": 3
   },
   "file_extension": ".py",
   "mimetype": "text/x-python",
   "name": "python",
   "nbconvert_exporter": "python",
   "pygments_lexer": "ipython3",
   "version": "3.11.9"
  }
 },
 "nbformat": 4,
 "nbformat_minor": 2
}

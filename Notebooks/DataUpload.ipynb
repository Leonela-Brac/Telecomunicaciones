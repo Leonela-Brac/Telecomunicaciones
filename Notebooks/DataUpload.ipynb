{
 "cells": [
  {
   "cell_type": "code",
   "execution_count": 16,
   "metadata": {},
   "outputs": [
    {
     "name": "stdout",
     "output_type": "stream",
     "text": [
      "Collecting openpyxl\n",
      "  Downloading openpyxl-3.1.5-py2.py3-none-any.whl.metadata (2.5 kB)\n",
      "Collecting et-xmlfile (from openpyxl)\n",
      "  Downloading et_xmlfile-2.0.0-py3-none-any.whl.metadata (2.7 kB)\n",
      "Downloading openpyxl-3.1.5-py2.py3-none-any.whl (250 kB)\n",
      "   ---------------------------------------- 0.0/250.9 kB ? eta -:--:--\n",
      "   ---------------------------------------- 0.0/250.9 kB ? eta -:--:--\n",
      "   - -------------------------------------- 10.2/250.9 kB ? eta -:--:--\n",
      "   - -------------------------------------- 10.2/250.9 kB ? eta -:--:--\n",
      "   - -------------------------------------- 10.2/250.9 kB ? eta -:--:--\n",
      "   - -------------------------------------- 10.2/250.9 kB ? eta -:--:--\n",
      "   - -------------------------------------- 10.2/250.9 kB ? eta -:--:--\n",
      "   ------ -------------------------------- 41.0/250.9 kB 140.9 kB/s eta 0:00:02\n",
      "   ------ -------------------------------- 41.0/250.9 kB 140.9 kB/s eta 0:00:02\n",
      "   ----------- --------------------------- 71.7/250.9 kB 206.9 kB/s eta 0:00:01\n",
      "   ----------- --------------------------- 71.7/250.9 kB 206.9 kB/s eta 0:00:01\n",
      "   -------------- ------------------------ 92.2/250.9 kB 218.5 kB/s eta 0:00:01\n",
      "   ----------------- -------------------- 112.6/250.9 kB 242.7 kB/s eta 0:00:01\n",
      "   ----------------- -------------------- 112.6/250.9 kB 242.7 kB/s eta 0:00:01\n",
      "   ----------------- -------------------- 112.6/250.9 kB 242.7 kB/s eta 0:00:01\n",
      "   ----------------- -------------------- 112.6/250.9 kB 242.7 kB/s eta 0:00:01\n",
      "   ------------------ ------------------- 122.9/250.9 kB 185.0 kB/s eta 0:00:01\n",
      "   ------------------ ------------------- 122.9/250.9 kB 185.0 kB/s eta 0:00:01\n",
      "   ------------------ ------------------- 122.9/250.9 kB 185.0 kB/s eta 0:00:01\n",
      "   ------------------ ------------------- 122.9/250.9 kB 185.0 kB/s eta 0:00:01\n",
      "   ------------------ ------------------- 122.9/250.9 kB 185.0 kB/s eta 0:00:01\n",
      "   ------------------ ------------------- 122.9/250.9 kB 185.0 kB/s eta 0:00:01\n",
      "   ------------------ ------------------- 122.9/250.9 kB 185.0 kB/s eta 0:00:01\n",
      "   --------------------- ---------------- 143.4/250.9 kB 144.4 kB/s eta 0:00:01\n",
      "   --------------------- ---------------- 143.4/250.9 kB 144.4 kB/s eta 0:00:01\n",
      "   --------------------- ---------------- 143.4/250.9 kB 144.4 kB/s eta 0:00:01\n",
      "   --------------------- ---------------- 143.4/250.9 kB 144.4 kB/s eta 0:00:01\n",
      "   ----------------------- -------------- 153.6/250.9 kB 131.2 kB/s eta 0:00:01\n",
      "   ----------------------- -------------- 153.6/250.9 kB 131.2 kB/s eta 0:00:01\n",
      "   ----------------------- -------------- 153.6/250.9 kB 131.2 kB/s eta 0:00:01\n",
      "   -------------------------- ----------- 174.1/250.9 kB 132.8 kB/s eta 0:00:01\n",
      "   -------------------------- ----------- 174.1/250.9 kB 132.8 kB/s eta 0:00:01\n",
      "   -------------------------- ----------- 174.1/250.9 kB 132.8 kB/s eta 0:00:01\n",
      "   -------------------------- ----------- 174.1/250.9 kB 132.8 kB/s eta 0:00:01\n",
      "   ----------------------------- -------- 194.6/250.9 kB 132.6 kB/s eta 0:00:01\n",
      "   ----------------------------- -------- 194.6/250.9 kB 132.6 kB/s eta 0:00:01\n",
      "   ----------------------------- -------- 194.6/250.9 kB 132.6 kB/s eta 0:00:01\n",
      "   ----------------------------- -------- 194.6/250.9 kB 132.6 kB/s eta 0:00:01\n",
      "   ----------------------------- -------- 194.6/250.9 kB 132.6 kB/s eta 0:00:01\n",
      "   ----------------------------- -------- 194.6/250.9 kB 132.6 kB/s eta 0:00:01\n",
      "   ----------------------------- -------- 194.6/250.9 kB 132.6 kB/s eta 0:00:01\n",
      "   ----------------------------- -------- 194.6/250.9 kB 132.6 kB/s eta 0:00:01\n",
      "   ----------------------------- -------- 194.6/250.9 kB 132.6 kB/s eta 0:00:01\n",
      "   ----------------------------- -------- 194.6/250.9 kB 132.6 kB/s eta 0:00:01\n",
      "   ------------------------------- ------ 204.8/250.9 kB 105.6 kB/s eta 0:00:01\n",
      "   ------------------------------- ------ 204.8/250.9 kB 105.6 kB/s eta 0:00:01\n",
      "   ------------------------------- ------ 204.8/250.9 kB 105.6 kB/s eta 0:00:01\n",
      "   ------------------------------- ------ 204.8/250.9 kB 105.6 kB/s eta 0:00:01\n",
      "   ------------------------------- ------ 204.8/250.9 kB 105.6 kB/s eta 0:00:01\n",
      "   ------------------------------- ------ 204.8/250.9 kB 105.6 kB/s eta 0:00:01\n",
      "   ---------------------------------- --- 225.3/250.9 kB 102.0 kB/s eta 0:00:01\n",
      "   ---------------------------------- --- 225.3/250.9 kB 102.0 kB/s eta 0:00:01\n",
      "   ---------------------------------- --- 225.3/250.9 kB 102.0 kB/s eta 0:00:01\n",
      "   ---------------------------------- --- 225.3/250.9 kB 102.0 kB/s eta 0:00:01\n",
      "   ---------------------------------- --- 225.3/250.9 kB 102.0 kB/s eta 0:00:01\n",
      "   ------------------------------------ -- 235.5/250.9 kB 98.1 kB/s eta 0:00:01\n",
      "   -------------------------------------- 250.9/250.9 kB 102.0 kB/s eta 0:00:00\n",
      "Downloading et_xmlfile-2.0.0-py3-none-any.whl (18 kB)\n",
      "Installing collected packages: et-xmlfile, openpyxl\n",
      "Successfully installed et-xmlfile-2.0.0 openpyxl-3.1.5\n",
      "Note: you may need to restart the kernel to use updated packages.\n"
     ]
    },
    {
     "name": "stderr",
     "output_type": "stream",
     "text": [
      "\n",
      "[notice] A new release of pip is available: 24.0 -> 25.0.1\n",
      "[notice] To update, run: python.exe -m pip install --upgrade pip\n"
     ]
    }
   ],
   "source": [
    "%pip install openpyxl\n"
   ]
  },
  {
   "cell_type": "code",
   "execution_count": 19,
   "metadata": {},
   "outputs": [
    {
     "name": "stdout",
     "output_type": "stream",
     "text": [
      "3.45.1\n"
     ]
    }
   ],
   "source": [
    "import sqlite3\n",
    "print(sqlite3.sqlite_version)\n"
   ]
  },
  {
   "cell_type": "code",
   "execution_count": 2,
   "metadata": {},
   "outputs": [],
   "source": [
    "import pandas as pd\n",
    "import os"
   ]
  },
  {
   "cell_type": "code",
   "execution_count": null,
   "metadata": {},
   "outputs": [],
   "source": [
    "# CARGA DE ARCHIVOS \n",
    "\n"
   ]
  },
  {
   "cell_type": "code",
   "execution_count": 7,
   "metadata": {},
   "outputs": [],
   "source": [
    "\n",
    "# convert_excels_to_csv que convierte archivos Excel con mas de una hoja a archivos CSV.\n",
    "# Cada hoja de cada archivo Excel se guarda como un archivo CSV separado.\n",
    "\n",
    "\n",
    "\n",
    "def convert_excels_to_csv(excel_files, output_folder=\"Principales\"):\n",
    "    \n",
    "    # excel_files: Lista de rutas de archivos Excel.\n",
    "    # output_folder: Carpeta donde se guardarán los CSV (por defecto \"Principales\").\n",
    "\n",
    "    if not os.path.exists(output_folder): #Se verifica si la carpeta de salida (output_folder) existe. Si no existe, se crea automáticamente.\n",
    "        os.makedirs(output_folder)\n",
    "    \n",
    "    for file in excel_files: #La función recorre cada archivo de la lista excel_files\n",
    "        xls = pd.ExcelFile(file) # Carga el archivo Excel para que trabajar con sus hojas.\n",
    "        file_name = os.path.splitext(os.path.basename(file))[0]  # Nombre del archivo sin extensión\n",
    "        \n",
    "        for sheet_name in xls.sheet_names:\n",
    "            df = xls.parse(sheet_name) # Carga los datos de esa hoja en un DataFrame de pandas.\n",
    "            csv_file = os.path.join(output_folder, f\"{file_name}_{sheet_name}.csv\") # Se genera el nombre del archivo CSV, usando el nombre del archivo Excel y el nombre de la hoja, separados por un guion bajo\n",
    "            df.to_csv(csv_file, index=False, encoding=\"utf-8\") # Guarda el DataFrame como un archivo CSV en la carpeta de salida.\n",
    "            print(f\"✔ Archivo guardado: {csv_file}\")\n",
    "\n"
   ]
  },
  {
   "cell_type": "code",
   "execution_count": 13,
   "metadata": {},
   "outputs": [
    {
     "name": "stdout",
     "output_type": "stream",
     "text": [
      "✔ Archivo guardado: Principales\\Internet_Acc_vel_loc_sinrangos.csv\n",
      "✔ Archivo guardado: Principales\\Internet_Velocidad_sin_Rangos.csv\n",
      "✔ Archivo guardado: Principales\\Internet_Accesos_tecnologia_localidad.csv\n",
      "✔ Archivo guardado: Principales\\Internet_Velocidad % por prov.csv\n",
      "✔ Archivo guardado: Principales\\Internet_Totales VMD.csv\n",
      "✔ Archivo guardado: Principales\\Internet_Totales Accesos Por Tecnología.csv\n",
      "✔ Archivo guardado: Principales\\Internet_Accesos Por Tecnología.csv\n",
      "✔ Archivo guardado: Principales\\Internet_Penetración-poblacion.csv\n",
      "✔ Archivo guardado: Principales\\Internet_Penetracion-hogares.csv\n",
      "✔ Archivo guardado: Principales\\Internet_Penetracion-totales.csv\n",
      "✔ Archivo guardado: Principales\\Internet_Totales Accesos por rango.csv\n",
      "✔ Archivo guardado: Principales\\Internet_Accesos por rangos.csv\n",
      "✔ Archivo guardado: Principales\\Internet_Dial-BAf.csv\n",
      "✔ Archivo guardado: Principales\\Internet_Totales Dial-BAf.csv\n",
      "✔ Archivo guardado: Principales\\Internet_Ingresos .csv\n"
     ]
    }
   ],
   "source": [
    "convert_excels_to_csv([\"C:/Users/rosad/OneDrive/Desktop/Leonela/DataAnalist/Telecomunicaciones/DataSets/Principales/Internet.xlsx\"])"
   ]
  },
  {
   "cell_type": "code",
   "execution_count": 4,
   "metadata": {},
   "outputs": [],
   "source": [
    "df = pd.read_excel(\"C:/Users/rosad/OneDrive/Desktop/Leonela/DataAnalist/Telecomunicaciones/DataSets/Principales/mapa_conectividad.xlsx\")  \n",
    "\n",
    "df.to_csv(\"mapa_conectividad.csv\", index=False, encoding=\"utf-8\") # Evita que agregue la columna de índices "
   ]
  },
  {
   "cell_type": "code",
   "execution_count": null,
   "metadata": {},
   "outputs": [],
   "source": [
    "df = pd.read_excel(\"C:/Users/rosad/OneDrive/Desktop/Leonela/DataAnalist/Telecomunicaciones/DataSets/Principales/Portabilidad.xlsx\")  \n",
    "\n",
    "df.to_csv(\"Portabilidad.csv\", index=False, encoding=\"utf-8\") "
   ]
  },
  {
   "cell_type": "code",
   "execution_count": 8,
   "metadata": {},
   "outputs": [
    {
     "name": "stdout",
     "output_type": "stream",
     "text": [
      "✔ Archivo guardado: Principales\\servicios_postales_ventas_postales.csv\n",
      "✔ Archivo guardado: Principales\\servicios_postales_ventas_telegraficas.csv\n",
      "✔ Archivo guardado: Principales\\servicios_postales_venta_monetarios.csv\n",
      "✔ Archivo guardado: Principales\\servicios_postales_ventas_unidades_provincias.csv\n",
      "✔ Archivo guardado: Principales\\servicios_postales_personal_ocupado.csv\n",
      "✔ Archivo guardado: Principales\\servicios_postales_unidades_postales.csv\n",
      "✔ Archivo guardado: Principales\\servicios_postales_unidades_telegraficas.csv\n",
      "✔ Archivo guardado: Principales\\servicios_postales_unidades_monetarios.csv\n"
     ]
    }
   ],
   "source": [
    "convert_excels_to_csv([\"C:/Users/rosad/OneDrive/Desktop/Leonela/DataAnalist/Telecomunicaciones/DataSets/Principales/servicios_postales.xlsx\"])"
   ]
  },
  {
   "cell_type": "code",
   "execution_count": 9,
   "metadata": {},
   "outputs": [
    {
     "name": "stdout",
     "output_type": "stream",
     "text": [
      "✔ Archivo guardado: Principales\\telefonia_fija_Fija_prov_tipo.csv\n",
      "✔ Archivo guardado: Principales\\telefonia_fija_Fija_accesos_tot.csv\n",
      "✔ Archivo guardado: Principales\\telefonia_fija_Fija_penetracion_prov.csv\n",
      "✔ Archivo guardado: Principales\\telefonia_fija_Fija_penetracion_tot.csv\n",
      "✔ Archivo guardado: Principales\\telefonia_fija_Fija_ingresos.csv\n"
     ]
    }
   ],
   "source": [
    "convert_excels_to_csv([\"C:/Users/rosad/OneDrive/Desktop/Leonela/DataAnalist/Telecomunicaciones/DataSets/Principales/telefonia_fija.xlsx\"])"
   ]
  },
  {
   "cell_type": "code",
   "execution_count": 10,
   "metadata": {},
   "outputs": [
    {
     "name": "stdout",
     "output_type": "stream",
     "text": [
      "✔ Archivo guardado: Principales\\telefonia_movil_SMS.csv\n",
      "✔ Archivo guardado: Principales\\telefonia_movil_Llamadas salientes.csv\n",
      "✔ Archivo guardado: Principales\\telefonia_movil_Minutos salientes.csv\n",
      "✔ Archivo guardado: Principales\\telefonia_movil_Ingresos.csv\n",
      "✔ Archivo guardado: Principales\\telefonia_movil_Penetracion.csv\n",
      "✔ Archivo guardado: Principales\\telefonia_movil_Accesos.csv\n",
      "✔ Archivo guardado: Principales\\telefonia_movil_Hoja1.csv\n"
     ]
    }
   ],
   "source": [
    "convert_excels_to_csv([\"C:/Users/rosad/OneDrive/Desktop/Leonela/DataAnalist/Telecomunicaciones/DataSets/Principales/telefonia_movil.xlsx\"])"
   ]
  },
  {
   "cell_type": "code",
   "execution_count": 12,
   "metadata": {},
   "outputs": [
    {
     "name": "stdout",
     "output_type": "stream",
     "text": [
      "✔ Archivo guardado: Principales\\Television_Accesos_prov_TV.csv\n",
      "✔ Archivo guardado: Principales\\Television_Accesos_totales_TV.csv\n",
      "✔ Archivo guardado: Principales\\Television_Ingresos_TV.csv\n",
      "✔ Archivo guardado: Principales\\Television_Penetracion_prov_TV.csv\n",
      "✔ Archivo guardado: Principales\\Television_Penetracion_totales_TV.csv\n"
     ]
    }
   ],
   "source": [
    "convert_excels_to_csv([\"C:/Users/rosad/OneDrive/Desktop/Leonela/DataAnalist/Telecomunicaciones/DataSets/Principales/Television.xlsx\"])"
   ]
  },
  {
   "cell_type": "code",
   "execution_count": null,
   "metadata": {},
   "outputs": [],
   "source": []
  }
 ],
 "metadata": {
  "kernelspec": {
   "display_name": "Python 3",
   "language": "python",
   "name": "python3"
  },
  "language_info": {
   "codemirror_mode": {
    "name": "ipython",
    "version": 3
   },
   "file_extension": ".py",
   "mimetype": "text/x-python",
   "name": "python",
   "nbconvert_exporter": "python",
   "pygments_lexer": "ipython3",
   "version": "3.11.9"
  }
 },
 "nbformat": 4,
 "nbformat_minor": 2
}
